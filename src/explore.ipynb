{
    "cells": [
        {
            "cell_type": "markdown",
            "metadata": {},
            "source": [
                "# API"
            ]
        },
        {
            "cell_type": "markdown",
            "metadata": {},
            "source": [
                "## Library import"
            ]
        },
        {
            "cell_type": "code",
            "execution_count": 2,
            "metadata": {},
            "outputs": [],
            "source": [
                "import os as os\n",
                "import pandas as pd\n",
                "import matplotlib.pyplot as plt\n",
                "from dotenv import load_dotenv\n",
                "import spotipy\n",
                "from spotipy.oauth2 import SpotifyClientCredentials"
            ]
        },
        {
            "cell_type": "markdown",
            "metadata": {},
            "source": [
                "## load the .env file variables"
            ]
        },
        {
            "cell_type": "code",
            "execution_count": 3,
            "metadata": {},
            "outputs": [],
            "source": [
                "load_dotenv()\n",
                "client_id = os.environ.get(\"CLIENT_ID\")\n",
                "client_secret = os.environ.get(\"CLIENT_SECRET\")"
            ]
        },
        {
            "cell_type": "markdown",
            "metadata": {},
            "source": [
                "## Run commands for secret values"
            ]
        },
        {
            "cell_type": "code",
            "execution_count": 4,
            "metadata": {},
            "outputs": [],
            "source": [
                "auth_manager = SpotifyClientCredentials(client_id=client_id, client_secret=client_secret)\n",
                "sp = spotipy.Spotify(auth_manager=auth_manager)"
            ]
        },
        {
            "cell_type": "code",
            "execution_count": 5,
            "metadata": {},
            "outputs": [],
            "source": [
                "# ID del artista que proporcionaste\n",
                "artist_id = '4dLvccxeQIM5u80Ri0u9OV'"
            ]
        },
        {
            "cell_type": "code",
            "execution_count": 6,
            "metadata": {},
            "outputs": [],
            "source": [
                "\n",
                "# Función para obtener el top 10 de canciones\n",
                "def get_top_tracks(artist_id, country='US'):\n",
                "    results = sp.artist_top_tracks(artist_id, country=country)\n",
                "    tracks = results['tracks'][:10]\n",
                "    track_data = []\n",
                "    for track in tracks:\n",
                "        track_data.append({'Tracks': track['name'],\n",
                "                           'Álbum': track['album']['name'],\n",
                "                           'Popularidad': track['popularity'],\n",
                "                           'duration_min': round(track['duration_ms'] / 60000, 2),\n",
                "                           'URL': track['external_urls']['spotify']})\n",
                "    return pd.DataFrame(track_data)"
            ]
        },
        {
            "cell_type": "markdown",
            "metadata": {},
            "source": [
                "##  Show artist Top 10"
            ]
        },
        {
            "cell_type": "code",
            "execution_count": 7,
            "metadata": {},
            "outputs": [
                {
                    "data": {
                        "text/html": [
                            "<div>\n",
                            "<style scoped>\n",
                            "    .dataframe tbody tr th:only-of-type {\n",
                            "        vertical-align: middle;\n",
                            "    }\n",
                            "\n",
                            "    .dataframe tbody tr th {\n",
                            "        vertical-align: top;\n",
                            "    }\n",
                            "\n",
                            "    .dataframe thead th {\n",
                            "        text-align: right;\n",
                            "    }\n",
                            "</style>\n",
                            "<table border=\"1\" class=\"dataframe\">\n",
                            "  <thead>\n",
                            "    <tr style=\"text-align: right;\">\n",
                            "      <th></th>\n",
                            "      <th>Tracks</th>\n",
                            "      <th>Álbum</th>\n",
                            "      <th>Popularidad</th>\n",
                            "      <th>duration_min</th>\n",
                            "      <th>URL</th>\n",
                            "    </tr>\n",
                            "  </thead>\n",
                            "  <tbody>\n",
                            "    <tr>\n",
                            "      <th>0</th>\n",
                            "      <td>Tú Con El</td>\n",
                            "      <td>Cantándole al Amor, Vol. 2</td>\n",
                            "      <td>77</td>\n",
                            "      <td>5.02</td>\n",
                            "      <td>https://open.spotify.com/track/6sRQjwLPdzADXhg...</td>\n",
                            "    </tr>\n",
                            "    <tr>\n",
                            "      <th>1</th>\n",
                            "      <td>Deseándote</td>\n",
                            "      <td>Feliz Navidad Con Salsa</td>\n",
                            "      <td>75</td>\n",
                            "      <td>4.73</td>\n",
                            "      <td>https://open.spotify.com/track/5hiHDuJOcBmB8wg...</td>\n",
                            "    </tr>\n",
                            "    <tr>\n",
                            "      <th>2</th>\n",
                            "      <td>Desnúdate Mujer</td>\n",
                            "      <td>Feliz Navidad Con Salsa</td>\n",
                            "      <td>74</td>\n",
                            "      <td>4.83</td>\n",
                            "      <td>https://open.spotify.com/track/7fuKGQRFnSZu4k1...</td>\n",
                            "    </tr>\n",
                            "    <tr>\n",
                            "      <th>3</th>\n",
                            "      <td>Tú Me Vuelves Loco</td>\n",
                            "      <td>Feliz Navidad Con Salsa</td>\n",
                            "      <td>69</td>\n",
                            "      <td>4.95</td>\n",
                            "      <td>https://open.spotify.com/track/64zAjhGj8t7iHtU...</td>\n",
                            "    </tr>\n",
                            "    <tr>\n",
                            "      <th>4</th>\n",
                            "      <td>Mi Libertad</td>\n",
                            "      <td>Feliz Navidad Con Salsa</td>\n",
                            "      <td>66</td>\n",
                            "      <td>4.51</td>\n",
                            "      <td>https://open.spotify.com/track/7m1ADUfi6v2cP40...</td>\n",
                            "    </tr>\n",
                            "    <tr>\n",
                            "      <th>5</th>\n",
                            "      <td>La Cura</td>\n",
                            "      <td>Feliz Navidad Con Salsa</td>\n",
                            "      <td>65</td>\n",
                            "      <td>4.94</td>\n",
                            "      <td>https://open.spotify.com/track/3HAjAfRtTyKxQAG...</td>\n",
                            "    </tr>\n",
                            "    <tr>\n",
                            "      <th>6</th>\n",
                            "      <td>La Rueda</td>\n",
                            "      <td>Feliz Navidad Con Salsa</td>\n",
                            "      <td>63</td>\n",
                            "      <td>6.41</td>\n",
                            "      <td>https://open.spotify.com/track/5xxR1xl7tiFlITt...</td>\n",
                            "    </tr>\n",
                            "    <tr>\n",
                            "      <th>7</th>\n",
                            "      <td>Esta Cobardía</td>\n",
                            "      <td>Feliz Navidad Con Salsa</td>\n",
                            "      <td>61</td>\n",
                            "      <td>5.74</td>\n",
                            "      <td>https://open.spotify.com/track/4qRJtJJ8LU2u3JP...</td>\n",
                            "    </tr>\n",
                            "    <tr>\n",
                            "      <th>8</th>\n",
                            "      <td>Quiero Llenarte</td>\n",
                            "      <td>Feliz Navidad Con Salsa</td>\n",
                            "      <td>61</td>\n",
                            "      <td>4.53</td>\n",
                            "      <td>https://open.spotify.com/track/45h6cHsy1LRc18k...</td>\n",
                            "    </tr>\n",
                            "    <tr>\n",
                            "      <th>9</th>\n",
                            "      <td>Si Te Entregas a Mi</td>\n",
                            "      <td>Cantandole al Amor</td>\n",
                            "      <td>58</td>\n",
                            "      <td>4.99</td>\n",
                            "      <td>https://open.spotify.com/track/7um9J27Um9yEn6G...</td>\n",
                            "    </tr>\n",
                            "  </tbody>\n",
                            "</table>\n",
                            "</div>"
                        ],
                        "text/plain": [
                            "                Tracks                       Álbum  Popularidad  duration_min  \\\n",
                            "0            Tú Con El  Cantándole al Amor, Vol. 2           77          5.02   \n",
                            "1           Deseándote     Feliz Navidad Con Salsa           75          4.73   \n",
                            "2      Desnúdate Mujer     Feliz Navidad Con Salsa           74          4.83   \n",
                            "3   Tú Me Vuelves Loco     Feliz Navidad Con Salsa           69          4.95   \n",
                            "4          Mi Libertad     Feliz Navidad Con Salsa           66          4.51   \n",
                            "5              La Cura     Feliz Navidad Con Salsa           65          4.94   \n",
                            "6             La Rueda     Feliz Navidad Con Salsa           63          6.41   \n",
                            "7        Esta Cobardía     Feliz Navidad Con Salsa           61          5.74   \n",
                            "8      Quiero Llenarte     Feliz Navidad Con Salsa           61          4.53   \n",
                            "9  Si Te Entregas a Mi          Cantandole al Amor           58          4.99   \n",
                            "\n",
                            "                                                 URL  \n",
                            "0  https://open.spotify.com/track/6sRQjwLPdzADXhg...  \n",
                            "1  https://open.spotify.com/track/5hiHDuJOcBmB8wg...  \n",
                            "2  https://open.spotify.com/track/7fuKGQRFnSZu4k1...  \n",
                            "3  https://open.spotify.com/track/64zAjhGj8t7iHtU...  \n",
                            "4  https://open.spotify.com/track/7m1ADUfi6v2cP40...  \n",
                            "5  https://open.spotify.com/track/3HAjAfRtTyKxQAG...  \n",
                            "6  https://open.spotify.com/track/5xxR1xl7tiFlITt...  \n",
                            "7  https://open.spotify.com/track/4qRJtJJ8LU2u3JP...  \n",
                            "8  https://open.spotify.com/track/45h6cHsy1LRc18k...  \n",
                            "9  https://open.spotify.com/track/7um9J27Um9yEn6G...  "
                        ]
                    },
                    "execution_count": 7,
                    "metadata": {},
                    "output_type": "execute_result"
                }
            ],
            "source": [
                "tracks_data = get_top_tracks(artist_id)\n",
                "tracks_data"
            ]
        },
        {
            "cell_type": "markdown",
            "metadata": {},
            "source": [
                "# Generate DataFrame"
            ]
        },
        {
            "cell_type": "code",
            "execution_count": 8,
            "metadata": {},
            "outputs": [
                {
                    "data": {
                        "text/html": [
                            "<div>\n",
                            "<style scoped>\n",
                            "    .dataframe tbody tr th:only-of-type {\n",
                            "        vertical-align: middle;\n",
                            "    }\n",
                            "\n",
                            "    .dataframe tbody tr th {\n",
                            "        vertical-align: top;\n",
                            "    }\n",
                            "\n",
                            "    .dataframe thead th {\n",
                            "        text-align: right;\n",
                            "    }\n",
                            "</style>\n",
                            "<table border=\"1\" class=\"dataframe\">\n",
                            "  <thead>\n",
                            "    <tr style=\"text-align: right;\">\n",
                            "      <th></th>\n",
                            "      <th>Tracks</th>\n",
                            "      <th>Álbum</th>\n",
                            "      <th>Popularidad</th>\n",
                            "      <th>duration_min</th>\n",
                            "      <th>URL</th>\n",
                            "    </tr>\n",
                            "  </thead>\n",
                            "  <tbody>\n",
                            "    <tr>\n",
                            "      <th>0</th>\n",
                            "      <td>Tú Con El</td>\n",
                            "      <td>Cantándole al Amor, Vol. 2</td>\n",
                            "      <td>77</td>\n",
                            "      <td>5.02</td>\n",
                            "      <td>https://open.spotify.com/track/6sRQjwLPdzADXhg...</td>\n",
                            "    </tr>\n",
                            "    <tr>\n",
                            "      <th>1</th>\n",
                            "      <td>Deseándote</td>\n",
                            "      <td>Feliz Navidad Con Salsa</td>\n",
                            "      <td>75</td>\n",
                            "      <td>4.73</td>\n",
                            "      <td>https://open.spotify.com/track/5hiHDuJOcBmB8wg...</td>\n",
                            "    </tr>\n",
                            "    <tr>\n",
                            "      <th>2</th>\n",
                            "      <td>Desnúdate Mujer</td>\n",
                            "      <td>Feliz Navidad Con Salsa</td>\n",
                            "      <td>74</td>\n",
                            "      <td>4.83</td>\n",
                            "      <td>https://open.spotify.com/track/7fuKGQRFnSZu4k1...</td>\n",
                            "    </tr>\n",
                            "    <tr>\n",
                            "      <th>3</th>\n",
                            "      <td>Tú Me Vuelves Loco</td>\n",
                            "      <td>Feliz Navidad Con Salsa</td>\n",
                            "      <td>69</td>\n",
                            "      <td>4.95</td>\n",
                            "      <td>https://open.spotify.com/track/64zAjhGj8t7iHtU...</td>\n",
                            "    </tr>\n",
                            "    <tr>\n",
                            "      <th>4</th>\n",
                            "      <td>Mi Libertad</td>\n",
                            "      <td>Feliz Navidad Con Salsa</td>\n",
                            "      <td>66</td>\n",
                            "      <td>4.51</td>\n",
                            "      <td>https://open.spotify.com/track/7m1ADUfi6v2cP40...</td>\n",
                            "    </tr>\n",
                            "    <tr>\n",
                            "      <th>5</th>\n",
                            "      <td>La Cura</td>\n",
                            "      <td>Feliz Navidad Con Salsa</td>\n",
                            "      <td>65</td>\n",
                            "      <td>4.94</td>\n",
                            "      <td>https://open.spotify.com/track/3HAjAfRtTyKxQAG...</td>\n",
                            "    </tr>\n",
                            "    <tr>\n",
                            "      <th>6</th>\n",
                            "      <td>La Rueda</td>\n",
                            "      <td>Feliz Navidad Con Salsa</td>\n",
                            "      <td>63</td>\n",
                            "      <td>6.41</td>\n",
                            "      <td>https://open.spotify.com/track/5xxR1xl7tiFlITt...</td>\n",
                            "    </tr>\n",
                            "    <tr>\n",
                            "      <th>7</th>\n",
                            "      <td>Esta Cobardía</td>\n",
                            "      <td>Feliz Navidad Con Salsa</td>\n",
                            "      <td>61</td>\n",
                            "      <td>5.74</td>\n",
                            "      <td>https://open.spotify.com/track/4qRJtJJ8LU2u3JP...</td>\n",
                            "    </tr>\n",
                            "    <tr>\n",
                            "      <th>8</th>\n",
                            "      <td>Quiero Llenarte</td>\n",
                            "      <td>Feliz Navidad Con Salsa</td>\n",
                            "      <td>61</td>\n",
                            "      <td>4.53</td>\n",
                            "      <td>https://open.spotify.com/track/45h6cHsy1LRc18k...</td>\n",
                            "    </tr>\n",
                            "    <tr>\n",
                            "      <th>9</th>\n",
                            "      <td>Si Te Entregas a Mi</td>\n",
                            "      <td>Cantandole al Amor</td>\n",
                            "      <td>58</td>\n",
                            "      <td>4.99</td>\n",
                            "      <td>https://open.spotify.com/track/7um9J27Um9yEn6G...</td>\n",
                            "    </tr>\n",
                            "  </tbody>\n",
                            "</table>\n",
                            "</div>"
                        ],
                        "text/plain": [
                            "                Tracks                       Álbum  Popularidad  duration_min  \\\n",
                            "0            Tú Con El  Cantándole al Amor, Vol. 2           77          5.02   \n",
                            "1           Deseándote     Feliz Navidad Con Salsa           75          4.73   \n",
                            "2      Desnúdate Mujer     Feliz Navidad Con Salsa           74          4.83   \n",
                            "3   Tú Me Vuelves Loco     Feliz Navidad Con Salsa           69          4.95   \n",
                            "4          Mi Libertad     Feliz Navidad Con Salsa           66          4.51   \n",
                            "5              La Cura     Feliz Navidad Con Salsa           65          4.94   \n",
                            "6             La Rueda     Feliz Navidad Con Salsa           63          6.41   \n",
                            "7        Esta Cobardía     Feliz Navidad Con Salsa           61          5.74   \n",
                            "8      Quiero Llenarte     Feliz Navidad Con Salsa           61          4.53   \n",
                            "9  Si Te Entregas a Mi          Cantandole al Amor           58          4.99   \n",
                            "\n",
                            "                                                 URL  \n",
                            "0  https://open.spotify.com/track/6sRQjwLPdzADXhg...  \n",
                            "1  https://open.spotify.com/track/5hiHDuJOcBmB8wg...  \n",
                            "2  https://open.spotify.com/track/7fuKGQRFnSZu4k1...  \n",
                            "3  https://open.spotify.com/track/64zAjhGj8t7iHtU...  \n",
                            "4  https://open.spotify.com/track/7m1ADUfi6v2cP40...  \n",
                            "5  https://open.spotify.com/track/3HAjAfRtTyKxQAG...  \n",
                            "6  https://open.spotify.com/track/5xxR1xl7tiFlITt...  \n",
                            "7  https://open.spotify.com/track/4qRJtJJ8LU2u3JP...  \n",
                            "8  https://open.spotify.com/track/45h6cHsy1LRc18k...  \n",
                            "9  https://open.spotify.com/track/7um9J27Um9yEn6G...  "
                        ]
                    },
                    "execution_count": 8,
                    "metadata": {},
                    "output_type": "execute_result"
                }
            ],
            "source": [
                "df_tracks = pd.DataFrame(tracks_data)\n",
                "df_tracks"
            ]
        },
        {
            "cell_type": "markdown",
            "metadata": {},
            "source": [
                "# Image Visualization"
            ]
        },
        {
            "cell_type": "code",
            "execution_count": 9,
            "metadata": {},
            "outputs": [
                {
                    "data": {
                        "text/plain": [
                            "Text(0, 0.5, 'Popularidad')"
                        ]
                    },
                    "execution_count": 9,
                    "metadata": {},
                    "output_type": "execute_result"
                },
                {
                    "data": {
                        "image/png": "[encoded data removed]",
                        "text/plain": [
                            "<Figure size 640x480 with 1 Axes>"
                        ]
                    },
                    "metadata": {},
                    "output_type": "display_data"
                }
            ],
            "source": [
                "plt.scatter(df_tracks[\"duration_min\"],\n",
                "            df_tracks[\"Popularidad\"],\n",
                "            color='blue')\n",
                "plt.title(\"Frankie Ruiz\")\n",
                "plt.xlabel(\"Tiempo\")\n",
                "plt.ylabel(\"Popularidad\")"
            ]
        }
    ],
    "metadata": {
        "kernelspec": {
            "display_name": "Python 3",
            "language": "python",
            "name": "python3"
        },
        "language_info": {
            "codemirror_mode": {
                "name": "ipython",
                "version": 3
            },
            "file_extension": ".py",
            "mimetype": "text/x-python",
            "name": "python",
            "nbconvert_exporter": "python",
            "pygments_lexer": "ipython3",
            "version": "3.11.4"
        },
        "orig_nbformat": 4
    },
    "nbformat": 4,
    "nbformat_minor": 2
}
