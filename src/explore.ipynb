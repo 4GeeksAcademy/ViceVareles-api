{
    "cells": [
        {
            "cell_type": "markdown",
            "metadata": {},
            "source": [
                "# API"
            ]
        },
        {
            "cell_type": "markdown",
            "metadata": {},
            "source": [
                "## Library import"
            ]
        },
        {
            "cell_type": "code",
            "execution_count": null,
            "metadata": {},
            "outputs": [],
            "source": [
                "\n",
                "import os as os\n",
                "import pandas as pd\n",
                "import matplotlib.pyplot as plt\n",
                "from dotenv import load_dotenv\n",
                "import spotipy\n",
                "from spotipy.oauth2 import SpotifyClientCredentials"
            ]
        },
        {
            "cell_type": "markdown",
            "metadata": {},
            "source": [
                "## load the .env file variables"
            ]
        },
        {
            "cell_type": "code",
            "execution_count": 7,
            "metadata": {},
            "outputs": [
                {
                    "data": {
                        "text/plain": [
                            "True"
                        ]
                    },
                    "execution_count": 7,
                    "metadata": {},
                    "output_type": "execute_result"
                }
            ],
            "source": [
                "load_dotenv()"
            ]
        },
        {
            "cell_type": "markdown",
            "metadata": {},
            "source": [
                "## Get credential values"
            ]
        },
        {
            "cell_type": "code",
            "execution_count": null,
            "metadata": {},
            "outputs": [
                {
                    "ename": "NameError",
                    "evalue": "name 'os' is not defined",
                    "output_type": "error",
                    "traceback": [
                        "\u001b[31m---------------------------------------------------------------------------\u001b[39m",
                        "\u001b[31mNameError\u001b[39m                                 Traceback (most recent call last)",
                        "\u001b[36mCell\u001b[39m\u001b[36m \u001b[39m\u001b[32mIn[10]\u001b[39m\u001b[32m, line 1\u001b[39m\n\u001b[32m----> \u001b[39m\u001b[32m1\u001b[39m client_id = \u001b[43mos\u001b[49m.environ.get(\u001b[33m\"\u001b[39m\u001b[33mCLIENT_ID\u001b[39m\u001b[33m\"\u001b[39m)\n\u001b[32m      2\u001b[39m client_secret = os.environ.get(\u001b[33m\"\u001b[39m\u001b[33mCLIENT_SECRET\u001b[39m\u001b[33m\"\u001b[39m)\n\u001b[32m      3\u001b[39m redirect_uri = os.environ.get(\u001b[33m\"\u001b[39m\u001b[33mREDIRECT_URI\u001b[39m\u001b[33m\"\u001b[39m)\n",
                        "\u001b[31mNameError\u001b[39m: name 'os' is not defined"
                    ]
                }
            ],
            "source": [
                "client_id = os.environ.get(\"CLIENT_ID\")\n",
                "client_secret = os.environ.get(\"CLIENT_SECRET\")\n",
                "redirect_uri = os.environ.get(\"REDIRECT_URI\")"
            ]
        },
        {
            "cell_type": "markdown",
            "metadata": {},
            "source": [
                "## Run commands for secret values"
            ]
        },
        {
            "cell_type": "code",
            "execution_count": 3,
            "metadata": {},
            "outputs": [
                {
                    "ename": "NameError",
                    "evalue": "name 'SpotifyClientCredentials' is not defined",
                    "output_type": "error",
                    "traceback": [
                        "\u001b[31m---------------------------------------------------------------------------\u001b[39m",
                        "\u001b[31mNameError\u001b[39m                                 Traceback (most recent call last)",
                        "\u001b[36mCell\u001b[39m\u001b[36m \u001b[39m\u001b[32mIn[3]\u001b[39m\u001b[32m, line 1\u001b[39m\n\u001b[32m----> \u001b[39m\u001b[32m1\u001b[39m auth_manager = \u001b[43mSpotifyClientCredentials\u001b[49m(client_id=client_id, client_secret=client_secret)\n\u001b[32m      2\u001b[39m spotify = spotipy.Spotify(auth_manager=auth_manager)\n",
                        "\u001b[31mNameError\u001b[39m: name 'SpotifyClientCredentials' is not defined"
                    ]
                }
            ],
            "source": [
                "auth_manager = SpotifyClientCredentials(client_id=client_id, client_secret=client_secret)\n",
                "spotify = spotipy.Spotify(auth_manager=auth_manager)"
            ]
        },
        {
            "cell_type": "code",
            "execution_count": 2,
            "metadata": {},
            "outputs": [
                {
                    "name": "stdout",
                    "output_type": "stream",
                    "text": [
                        "                Nombre                       Álbum  Popularidad  \\\n",
                        "0            Tú Con El  Cantándole al Amor, Vol. 2           77   \n",
                        "1           Deseándote     Feliz Navidad Con Salsa           75   \n",
                        "2      Desnúdate Mujer     Feliz Navidad Con Salsa           74   \n",
                        "3   Tú Me Vuelves Loco     Feliz Navidad Con Salsa           69   \n",
                        "4          Mi Libertad     Feliz Navidad Con Salsa           66   \n",
                        "5              La Cura     Feliz Navidad Con Salsa           65   \n",
                        "6             La Rueda     Feliz Navidad Con Salsa           63   \n",
                        "7        Esta Cobardía     Feliz Navidad Con Salsa           61   \n",
                        "8      Quiero Llenarte     Feliz Navidad Con Salsa           61   \n",
                        "9  Si Te Entregas a Mi          Cantandole al Amor           58   \n",
                        "\n",
                        "                                                 URL  \n",
                        "0  https://open.spotify.com/track/6sRQjwLPdzADXhg...  \n",
                        "1  https://open.spotify.com/track/5hiHDuJOcBmB8wg...  \n",
                        "2  https://open.spotify.com/track/7fuKGQRFnSZu4k1...  \n",
                        "3  https://open.spotify.com/track/64zAjhGj8t7iHtU...  \n",
                        "4  https://open.spotify.com/track/7m1ADUfi6v2cP40...  \n",
                        "5  https://open.spotify.com/track/3HAjAfRtTyKxQAG...  \n",
                        "6  https://open.spotify.com/track/5xxR1xl7tiFlITt...  \n",
                        "7  https://open.spotify.com/track/4qRJtJJ8LU2u3JP...  \n",
                        "8  https://open.spotify.com/track/45h6cHsy1LRc18k...  \n",
                        "9  https://open.spotify.com/track/7um9J27Um9yEn6G...  \n"
                    ]
                }
            ],
            "source": [
                "import spotipy\n",
                "from spotipy.oauth2 import SpotifyOAuth\n",
                "import pandas as pd\n",
                "\n",
                "# Tus credenciales de Spotify (rellénalas con tus datos)\n",
                "CLIENT_ID = 'e55a43641dca4357a68d0a74eae93e8f'\n",
                "CLIENT_SECRET = 'fedeae73b2d849baab721bb3d41d055e'\n",
                "REDIRECT_URI = 'https://example.com/callback'\n",
                "\n",
                "# Scope para acceder a funciones de lectura\n",
                "SCOPE = 'user-library-read'\n",
                "\n",
                "# Autenticación\n",
                "sp = spotipy.Spotify(auth_manager=SpotifyOAuth(\n",
                "    client_id=CLIENT_ID,\n",
                "    client_secret=CLIENT_SECRET,\n",
                "    redirect_uri=REDIRECT_URI,\n",
                "    scope=SCOPE\n",
                "))\n",
                "\n",
                "# ID del artista que proporcionaste\n",
                "artist_id = '4dLvccxeQIM5u80Ri0u9OV'\n",
                "\n",
                "# Función para obtener el top 10 de canciones\n",
                "def get_top_tracks(artist_id, country='US'):\n",
                "    results = sp.artist_top_tracks(artist_id, country=country)\n",
                "    tracks = results['tracks'][:10]\n",
                "    track_data = []\n",
                "    for track in tracks:\n",
                "        track_data.append({\n",
                "            'Nombre': track['name'],\n",
                "            'Álbum': track['album']['name'],\n",
                "            'Popularidad': track['popularity'],\n",
                "            'URL': track['external_urls']['spotify']\n",
                "        })\n",
                "    return pd.DataFrame(track_data)\n",
                "\n",
                "# Obtener y mostrar el DataFrame\n",
                "df_top10 = get_top_tracks(artist_id)\n",
                "print(df_top10)\n",
                "\n",
                "# Guardar en CSV (opcional)\n",
                "# df_top10.to_csv('top10_artist.csv', index=False)"
            ]
        }
    ],
    "metadata": {
        "kernelspec": {
            "display_name": "Python 3",
            "language": "python",
            "name": "python3"
        },
        "language_info": {
            "codemirror_mode": {
                "name": "ipython",
                "version": 3
            },
            "file_extension": ".py",
            "mimetype": "text/x-python",
            "name": "python",
            "nbconvert_exporter": "python",
            "pygments_lexer": "ipython3",
            "version": "3.11.4"
        },
        "orig_nbformat": 4
    },
    "nbformat": 4,
    "nbformat_minor": 2
}
